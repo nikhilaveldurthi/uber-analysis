{
  "metadata": {
    "language_info": {
      "codemirror_mode": {
        "name": "python",
        "version": 3
      },
      "file_extension": ".py",
      "mimetype": "text/x-python",
      "name": "python",
      "nbconvert_exporter": "python",
      "pygments_lexer": "ipython3",
      "version": "3.8"
    },
    "kernelspec": {
      "name": "python",
      "display_name": "Python (Pyodide)",
      "language": "python"
    }
  },
  "nbformat_minor": 4,
  "nbformat": 4,
  "cells": [
    {
      "cell_type": "code",
      "source": "import pandas as pd\n",
      "metadata": {
        "trusted": true
      },
      "execution_count": 2,
      "outputs": []
    },
    {
      "cell_type": "code",
      "source": "data = pd.read_csv(\"uber_data.csv\")",
      "metadata": {
        "trusted": true
      },
      "execution_count": 3,
      "outputs": []
    },
    {
      "cell_type": "code",
      "source": "data.head()",
      "metadata": {
        "trusted": true
      },
      "execution_count": 5,
      "outputs": [
        {
          "execution_count": 5,
          "output_type": "execute_result",
          "data": {
            "text/plain": "   VendorID tpep_pickup_datetime tpep_dropoff_datetime  passenger_count  \\\n0         1  2016-03-01 00:00:00   2016-03-01 00:07:55                1   \n1         1  2016-03-01 00:00:00   2016-03-01 00:11:06                1   \n2         2  2016-03-01 00:00:00   2016-03-01 00:31:06                2   \n3         2  2016-03-01 00:00:00   2016-03-01 00:00:00                3   \n4         2  2016-03-01 00:00:00   2016-03-01 00:00:00                5   \n\n   trip_distance  pickup_longitude  pickup_latitude  RatecodeID  \\\n0           2.50        -73.976746        40.765152           1   \n1           2.90        -73.983482        40.767925           1   \n2          19.98        -73.782021        40.644810           1   \n3          10.78        -73.863419        40.769814           1   \n4          30.43        -73.971741        40.792183           3   \n\n  store_and_fwd_flag  dropoff_longitude  dropoff_latitude  payment_type  \\\n0                  N         -74.004265         40.746128             1   \n1                  N         -74.005943         40.733166             1   \n2                  N         -73.974541         40.675770             1   \n3                  N         -73.969650         40.757767             1   \n4                  N         -74.177170         40.695053             1   \n\n   fare_amount  extra  mta_tax  tip_amount  tolls_amount  \\\n0          9.0    0.5      0.5        2.05          0.00   \n1         11.0    0.5      0.5        3.05          0.00   \n2         54.5    0.5      0.5        8.00          0.00   \n3         31.5    0.0      0.5        3.78          5.54   \n4         98.0    0.0      0.0        0.00         15.50   \n\n   improvement_surcharge  total_amount  \n0                    0.3         12.35  \n1                    0.3         15.35  \n2                    0.3         63.80  \n3                    0.3         41.62  \n4                    0.3        113.80  ",
            "text/html": "<div>\n<style scoped>\n    .dataframe tbody tr th:only-of-type {\n        vertical-align: middle;\n    }\n\n    .dataframe tbody tr th {\n        vertical-align: top;\n    }\n\n    .dataframe thead th {\n        text-align: right;\n    }\n</style>\n<table border=\"1\" class=\"dataframe\">\n  <thead>\n    <tr style=\"text-align: right;\">\n      <th></th>\n      <th>VendorID</th>\n      <th>tpep_pickup_datetime</th>\n      <th>tpep_dropoff_datetime</th>\n      <th>passenger_count</th>\n      <th>trip_distance</th>\n      <th>pickup_longitude</th>\n      <th>pickup_latitude</th>\n      <th>RatecodeID</th>\n      <th>store_and_fwd_flag</th>\n      <th>dropoff_longitude</th>\n      <th>dropoff_latitude</th>\n      <th>payment_type</th>\n      <th>fare_amount</th>\n      <th>extra</th>\n      <th>mta_tax</th>\n      <th>tip_amount</th>\n      <th>tolls_amount</th>\n      <th>improvement_surcharge</th>\n      <th>total_amount</th>\n    </tr>\n  </thead>\n  <tbody>\n    <tr>\n      <th>0</th>\n      <td>1</td>\n      <td>2016-03-01 00:00:00</td>\n      <td>2016-03-01 00:07:55</td>\n      <td>1</td>\n      <td>2.50</td>\n      <td>-73.976746</td>\n      <td>40.765152</td>\n      <td>1</td>\n      <td>N</td>\n      <td>-74.004265</td>\n      <td>40.746128</td>\n      <td>1</td>\n      <td>9.0</td>\n      <td>0.5</td>\n      <td>0.5</td>\n      <td>2.05</td>\n      <td>0.00</td>\n      <td>0.3</td>\n      <td>12.35</td>\n    </tr>\n    <tr>\n      <th>1</th>\n      <td>1</td>\n      <td>2016-03-01 00:00:00</td>\n      <td>2016-03-01 00:11:06</td>\n      <td>1</td>\n      <td>2.90</td>\n      <td>-73.983482</td>\n      <td>40.767925</td>\n      <td>1</td>\n      <td>N</td>\n      <td>-74.005943</td>\n      <td>40.733166</td>\n      <td>1</td>\n      <td>11.0</td>\n      <td>0.5</td>\n      <td>0.5</td>\n      <td>3.05</td>\n      <td>0.00</td>\n      <td>0.3</td>\n      <td>15.35</td>\n    </tr>\n    <tr>\n      <th>2</th>\n      <td>2</td>\n      <td>2016-03-01 00:00:00</td>\n      <td>2016-03-01 00:31:06</td>\n      <td>2</td>\n      <td>19.98</td>\n      <td>-73.782021</td>\n      <td>40.644810</td>\n      <td>1</td>\n      <td>N</td>\n      <td>-73.974541</td>\n      <td>40.675770</td>\n      <td>1</td>\n      <td>54.5</td>\n      <td>0.5</td>\n      <td>0.5</td>\n      <td>8.00</td>\n      <td>0.00</td>\n      <td>0.3</td>\n      <td>63.80</td>\n    </tr>\n    <tr>\n      <th>3</th>\n      <td>2</td>\n      <td>2016-03-01 00:00:00</td>\n      <td>2016-03-01 00:00:00</td>\n      <td>3</td>\n      <td>10.78</td>\n      <td>-73.863419</td>\n      <td>40.769814</td>\n      <td>1</td>\n      <td>N</td>\n      <td>-73.969650</td>\n      <td>40.757767</td>\n      <td>1</td>\n      <td>31.5</td>\n      <td>0.0</td>\n      <td>0.5</td>\n      <td>3.78</td>\n      <td>5.54</td>\n      <td>0.3</td>\n      <td>41.62</td>\n    </tr>\n    <tr>\n      <th>4</th>\n      <td>2</td>\n      <td>2016-03-01 00:00:00</td>\n      <td>2016-03-01 00:00:00</td>\n      <td>5</td>\n      <td>30.43</td>\n      <td>-73.971741</td>\n      <td>40.792183</td>\n      <td>3</td>\n      <td>N</td>\n      <td>-74.177170</td>\n      <td>40.695053</td>\n      <td>1</td>\n      <td>98.0</td>\n      <td>0.0</td>\n      <td>0.0</td>\n      <td>0.00</td>\n      <td>15.50</td>\n      <td>0.3</td>\n      <td>113.80</td>\n    </tr>\n  </tbody>\n</table>\n</div>"
          },
          "metadata": {}
        }
      ]
    },
    {
      "cell_type": "code",
      "source": "data.info()",
      "metadata": {
        "trusted": true
      },
      "execution_count": 6,
      "outputs": [
        {
          "name": "stdout",
          "text": "<class 'pandas.core.frame.DataFrame'>\nRangeIndex: 100000 entries, 0 to 99999\nData columns (total 19 columns):\n #   Column                 Non-Null Count   Dtype  \n---  ------                 --------------   -----  \n 0   VendorID               100000 non-null  int64  \n 1   tpep_pickup_datetime   100000 non-null  object \n 2   tpep_dropoff_datetime  100000 non-null  object \n 3   passenger_count        100000 non-null  int64  \n 4   trip_distance          100000 non-null  float64\n 5   pickup_longitude       100000 non-null  float64\n 6   pickup_latitude        100000 non-null  float64\n 7   RatecodeID             100000 non-null  int64  \n 8   store_and_fwd_flag     100000 non-null  object \n 9   dropoff_longitude      100000 non-null  float64\n 10  dropoff_latitude       100000 non-null  float64\n 11  payment_type           100000 non-null  int64  \n 12  fare_amount            100000 non-null  float64\n 13  extra                  100000 non-null  float64\n 14  mta_tax                100000 non-null  float64\n 15  tip_amount             100000 non-null  float64\n 16  tolls_amount           100000 non-null  float64\n 17  improvement_surcharge  100000 non-null  float64\n 18  total_amount           100000 non-null  float64\ndtypes: float64(12), int64(4), object(3)\nmemory usage: 13.4+ MB\n",
          "output_type": "stream"
        }
      ]
    },
    {
      "cell_type": "code",
      "source": "data['tpep_pickup_datetime'] = pd.to_datetime(data['tpep_pickup_datetime'])\ndata['tpep_dropoff_datetime'] = pd.to_datetime(data['tpep_dropoff_datetime'])",
      "metadata": {
        "trusted": true
      },
      "execution_count": 8,
      "outputs": []
    },
    {
      "cell_type": "code",
      "source": "data.info()",
      "metadata": {
        "trusted": true
      },
      "execution_count": 9,
      "outputs": [
        {
          "name": "stdout",
          "text": "<class 'pandas.core.frame.DataFrame'>\nRangeIndex: 100000 entries, 0 to 99999\nData columns (total 19 columns):\n #   Column                 Non-Null Count   Dtype         \n---  ------                 --------------   -----         \n 0   VendorID               100000 non-null  int64         \n 1   tpep_pickup_datetime   100000 non-null  datetime64[ns]\n 2   tpep_dropoff_datetime  100000 non-null  datetime64[ns]\n 3   passenger_count        100000 non-null  int64         \n 4   trip_distance          100000 non-null  float64       \n 5   pickup_longitude       100000 non-null  float64       \n 6   pickup_latitude        100000 non-null  float64       \n 7   RatecodeID             100000 non-null  int64         \n 8   store_and_fwd_flag     100000 non-null  object        \n 9   dropoff_longitude      100000 non-null  float64       \n 10  dropoff_latitude       100000 non-null  float64       \n 11  payment_type           100000 non-null  int64         \n 12  fare_amount            100000 non-null  float64       \n 13  extra                  100000 non-null  float64       \n 14  mta_tax                100000 non-null  float64       \n 15  tip_amount             100000 non-null  float64       \n 16  tolls_amount           100000 non-null  float64       \n 17  improvement_surcharge  100000 non-null  float64       \n 18  total_amount           100000 non-null  float64       \ndtypes: datetime64[ns](2), float64(12), int64(4), object(1)\nmemory usage: 14.1+ MB\n",
          "output_type": "stream"
        }
      ]
    },
    {
      "cell_type": "code",
      "source": "data = data.drop_duplicates().reset_index(drop = True)\ndata['trip_id'] = data.index\n",
      "metadata": {
        "trusted": true
      },
      "execution_count": 14,
      "outputs": []
    },
    {
      "cell_type": "code",
      "source": "data.head()",
      "metadata": {
        "trusted": true
      },
      "execution_count": 15,
      "outputs": [
        {
          "execution_count": 15,
          "output_type": "execute_result",
          "data": {
            "text/plain": "   VendorID tpep_pickup_datetime tpep_dropoff_datetime  passenger_count  \\\n0         1           2016-03-01   2016-03-01 00:07:55                1   \n1         1           2016-03-01   2016-03-01 00:11:06                1   \n2         2           2016-03-01   2016-03-01 00:31:06                2   \n3         2           2016-03-01   2016-03-01 00:00:00                3   \n4         2           2016-03-01   2016-03-01 00:00:00                5   \n\n   trip_distance  pickup_longitude  pickup_latitude  RatecodeID  \\\n0           2.50        -73.976746        40.765152           1   \n1           2.90        -73.983482        40.767925           1   \n2          19.98        -73.782021        40.644810           1   \n3          10.78        -73.863419        40.769814           1   \n4          30.43        -73.971741        40.792183           3   \n\n  store_and_fwd_flag  dropoff_longitude  dropoff_latitude  payment_type  \\\n0                  N         -74.004265         40.746128             1   \n1                  N         -74.005943         40.733166             1   \n2                  N         -73.974541         40.675770             1   \n3                  N         -73.969650         40.757767             1   \n4                  N         -74.177170         40.695053             1   \n\n   fare_amount  extra  mta_tax  tip_amount  tolls_amount  \\\n0          9.0    0.5      0.5        2.05          0.00   \n1         11.0    0.5      0.5        3.05          0.00   \n2         54.5    0.5      0.5        8.00          0.00   \n3         31.5    0.0      0.5        3.78          5.54   \n4         98.0    0.0      0.0        0.00         15.50   \n\n   improvement_surcharge  total_amount  trip_id  \n0                    0.3         12.35        0  \n1                    0.3         15.35        1  \n2                    0.3         63.80        2  \n3                    0.3         41.62        3  \n4                    0.3        113.80        4  ",
            "text/html": "<div>\n<style scoped>\n    .dataframe tbody tr th:only-of-type {\n        vertical-align: middle;\n    }\n\n    .dataframe tbody tr th {\n        vertical-align: top;\n    }\n\n    .dataframe thead th {\n        text-align: right;\n    }\n</style>\n<table border=\"1\" class=\"dataframe\">\n  <thead>\n    <tr style=\"text-align: right;\">\n      <th></th>\n      <th>VendorID</th>\n      <th>tpep_pickup_datetime</th>\n      <th>tpep_dropoff_datetime</th>\n      <th>passenger_count</th>\n      <th>trip_distance</th>\n      <th>pickup_longitude</th>\n      <th>pickup_latitude</th>\n      <th>RatecodeID</th>\n      <th>store_and_fwd_flag</th>\n      <th>dropoff_longitude</th>\n      <th>dropoff_latitude</th>\n      <th>payment_type</th>\n      <th>fare_amount</th>\n      <th>extra</th>\n      <th>mta_tax</th>\n      <th>tip_amount</th>\n      <th>tolls_amount</th>\n      <th>improvement_surcharge</th>\n      <th>total_amount</th>\n      <th>trip_id</th>\n    </tr>\n  </thead>\n  <tbody>\n    <tr>\n      <th>0</th>\n      <td>1</td>\n      <td>2016-03-01</td>\n      <td>2016-03-01 00:07:55</td>\n      <td>1</td>\n      <td>2.50</td>\n      <td>-73.976746</td>\n      <td>40.765152</td>\n      <td>1</td>\n      <td>N</td>\n      <td>-74.004265</td>\n      <td>40.746128</td>\n      <td>1</td>\n      <td>9.0</td>\n      <td>0.5</td>\n      <td>0.5</td>\n      <td>2.05</td>\n      <td>0.00</td>\n      <td>0.3</td>\n      <td>12.35</td>\n      <td>0</td>\n    </tr>\n    <tr>\n      <th>1</th>\n      <td>1</td>\n      <td>2016-03-01</td>\n      <td>2016-03-01 00:11:06</td>\n      <td>1</td>\n      <td>2.90</td>\n      <td>-73.983482</td>\n      <td>40.767925</td>\n      <td>1</td>\n      <td>N</td>\n      <td>-74.005943</td>\n      <td>40.733166</td>\n      <td>1</td>\n      <td>11.0</td>\n      <td>0.5</td>\n      <td>0.5</td>\n      <td>3.05</td>\n      <td>0.00</td>\n      <td>0.3</td>\n      <td>15.35</td>\n      <td>1</td>\n    </tr>\n    <tr>\n      <th>2</th>\n      <td>2</td>\n      <td>2016-03-01</td>\n      <td>2016-03-01 00:31:06</td>\n      <td>2</td>\n      <td>19.98</td>\n      <td>-73.782021</td>\n      <td>40.644810</td>\n      <td>1</td>\n      <td>N</td>\n      <td>-73.974541</td>\n      <td>40.675770</td>\n      <td>1</td>\n      <td>54.5</td>\n      <td>0.5</td>\n      <td>0.5</td>\n      <td>8.00</td>\n      <td>0.00</td>\n      <td>0.3</td>\n      <td>63.80</td>\n      <td>2</td>\n    </tr>\n    <tr>\n      <th>3</th>\n      <td>2</td>\n      <td>2016-03-01</td>\n      <td>2016-03-01 00:00:00</td>\n      <td>3</td>\n      <td>10.78</td>\n      <td>-73.863419</td>\n      <td>40.769814</td>\n      <td>1</td>\n      <td>N</td>\n      <td>-73.969650</td>\n      <td>40.757767</td>\n      <td>1</td>\n      <td>31.5</td>\n      <td>0.0</td>\n      <td>0.5</td>\n      <td>3.78</td>\n      <td>5.54</td>\n      <td>0.3</td>\n      <td>41.62</td>\n      <td>3</td>\n    </tr>\n    <tr>\n      <th>4</th>\n      <td>2</td>\n      <td>2016-03-01</td>\n      <td>2016-03-01 00:00:00</td>\n      <td>5</td>\n      <td>30.43</td>\n      <td>-73.971741</td>\n      <td>40.792183</td>\n      <td>3</td>\n      <td>N</td>\n      <td>-74.177170</td>\n      <td>40.695053</td>\n      <td>1</td>\n      <td>98.0</td>\n      <td>0.0</td>\n      <td>0.0</td>\n      <td>0.00</td>\n      <td>15.50</td>\n      <td>0.3</td>\n      <td>113.80</td>\n      <td>4</td>\n    </tr>\n  </tbody>\n</table>\n</div>"
          },
          "metadata": {}
        }
      ]
    },
    {
      "cell_type": "code",
      "source": "datetime_dim = data[['tpep_pickup_datetime','tpep_dropoff_datetime']].reset_index(drop=True)\ndatetime_dim['tpep_pickup_datetime'] = datetime_dim['tpep_pickup_datetime']\ndatetime_dim['pick_hour'] = datetime_dim['tpep_pickup_datetime'].dt.hour\ndatetime_dim['pick_day'] = datetime_dim['tpep_pickup_datetime'].dt.day\ndatetime_dim['pick_month'] = datetime_dim['tpep_pickup_datetime'].dt.month\ndatetime_dim['pick_year'] = datetime_dim['tpep_pickup_datetime'].dt.year\ndatetime_dim['pick_weekday'] = datetime_dim['tpep_pickup_datetime'].dt.weekday\n\ndatetime_dim['tpep_dropoff_datetime'] = datetime_dim['tpep_dropoff_datetime']\ndatetime_dim['drop_hour'] = datetime_dim['tpep_dropoff_datetime'].dt.hour\ndatetime_dim['drop_day'] = datetime_dim['tpep_dropoff_datetime'].dt.day\ndatetime_dim['drop_month'] = datetime_dim['tpep_dropoff_datetime'].dt.month\ndatetime_dim['drop_year'] = datetime_dim['tpep_dropoff_datetime'].dt.year\ndatetime_dim['drop_weekday'] = datetime_dim['tpep_dropoff_datetime'].dt.weekday",
      "metadata": {
        "trusted": true
      },
      "execution_count": 17,
      "outputs": []
    },
    {
      "cell_type": "code",
      "source": "datetime_dim.head()",
      "metadata": {
        "trusted": true
      },
      "execution_count": 18,
      "outputs": [
        {
          "execution_count": 18,
          "output_type": "execute_result",
          "data": {
            "text/plain": "  tpep_pickup_datetime tpep_dropoff_datetime  pick_hour  pick_day  pick_month  \\\n0           2016-03-01   2016-03-01 00:07:55          0         1           3   \n1           2016-03-01   2016-03-01 00:11:06          0         1           3   \n2           2016-03-01   2016-03-01 00:31:06          0         1           3   \n3           2016-03-01   2016-03-01 00:00:00          0         1           3   \n4           2016-03-01   2016-03-01 00:00:00          0         1           3   \n\n   pick_year  pick_weekday  drop_hour  drop_day  drop_month  drop_year  \\\n0       2016             1          0         1           3       2016   \n1       2016             1          0         1           3       2016   \n2       2016             1          0         1           3       2016   \n3       2016             1          0         1           3       2016   \n4       2016             1          0         1           3       2016   \n\n   drop_weekday  \n0             1  \n1             1  \n2             1  \n3             1  \n4             1  ",
            "text/html": "<div>\n<style scoped>\n    .dataframe tbody tr th:only-of-type {\n        vertical-align: middle;\n    }\n\n    .dataframe tbody tr th {\n        vertical-align: top;\n    }\n\n    .dataframe thead th {\n        text-align: right;\n    }\n</style>\n<table border=\"1\" class=\"dataframe\">\n  <thead>\n    <tr style=\"text-align: right;\">\n      <th></th>\n      <th>tpep_pickup_datetime</th>\n      <th>tpep_dropoff_datetime</th>\n      <th>pick_hour</th>\n      <th>pick_day</th>\n      <th>pick_month</th>\n      <th>pick_year</th>\n      <th>pick_weekday</th>\n      <th>drop_hour</th>\n      <th>drop_day</th>\n      <th>drop_month</th>\n      <th>drop_year</th>\n      <th>drop_weekday</th>\n    </tr>\n  </thead>\n  <tbody>\n    <tr>\n      <th>0</th>\n      <td>2016-03-01</td>\n      <td>2016-03-01 00:07:55</td>\n      <td>0</td>\n      <td>1</td>\n      <td>3</td>\n      <td>2016</td>\n      <td>1</td>\n      <td>0</td>\n      <td>1</td>\n      <td>3</td>\n      <td>2016</td>\n      <td>1</td>\n    </tr>\n    <tr>\n      <th>1</th>\n      <td>2016-03-01</td>\n      <td>2016-03-01 00:11:06</td>\n      <td>0</td>\n      <td>1</td>\n      <td>3</td>\n      <td>2016</td>\n      <td>1</td>\n      <td>0</td>\n      <td>1</td>\n      <td>3</td>\n      <td>2016</td>\n      <td>1</td>\n    </tr>\n    <tr>\n      <th>2</th>\n      <td>2016-03-01</td>\n      <td>2016-03-01 00:31:06</td>\n      <td>0</td>\n      <td>1</td>\n      <td>3</td>\n      <td>2016</td>\n      <td>1</td>\n      <td>0</td>\n      <td>1</td>\n      <td>3</td>\n      <td>2016</td>\n      <td>1</td>\n    </tr>\n    <tr>\n      <th>3</th>\n      <td>2016-03-01</td>\n      <td>2016-03-01 00:00:00</td>\n      <td>0</td>\n      <td>1</td>\n      <td>3</td>\n      <td>2016</td>\n      <td>1</td>\n      <td>0</td>\n      <td>1</td>\n      <td>3</td>\n      <td>2016</td>\n      <td>1</td>\n    </tr>\n    <tr>\n      <th>4</th>\n      <td>2016-03-01</td>\n      <td>2016-03-01 00:00:00</td>\n      <td>0</td>\n      <td>1</td>\n      <td>3</td>\n      <td>2016</td>\n      <td>1</td>\n      <td>0</td>\n      <td>1</td>\n      <td>3</td>\n      <td>2016</td>\n      <td>1</td>\n    </tr>\n  </tbody>\n</table>\n</div>"
          },
          "metadata": {}
        }
      ]
    },
    {
      "cell_type": "code",
      "source": "datetime_dim['datetime_id'] = datetime_dim.index",
      "metadata": {
        "trusted": true
      },
      "execution_count": 20,
      "outputs": []
    },
    {
      "cell_type": "code",
      "source": "datetime_dim",
      "metadata": {
        "trusted": true
      },
      "execution_count": 21,
      "outputs": [
        {
          "execution_count": 21,
          "output_type": "execute_result",
          "data": {
            "text/plain": "      tpep_pickup_datetime tpep_dropoff_datetime  pick_hour  pick_day  \\\n0      2016-03-01 00:00:00   2016-03-01 00:07:55          0         1   \n1      2016-03-01 00:00:00   2016-03-01 00:11:06          0         1   \n2      2016-03-01 00:00:00   2016-03-01 00:31:06          0         1   \n3      2016-03-01 00:00:00   2016-03-01 00:00:00          0         1   \n4      2016-03-01 00:00:00   2016-03-01 00:00:00          0         1   \n...                    ...                   ...        ...       ...   \n99995  2016-03-01 06:17:10   2016-03-01 06:22:15          6         1   \n99996  2016-03-01 06:17:10   2016-03-01 06:32:41          6         1   \n99997  2016-03-01 06:17:10   2016-03-01 06:37:23          6         1   \n99998  2016-03-01 06:17:10   2016-03-01 06:22:09          6         1   \n99999  2016-03-01 06:17:11   2016-03-01 06:22:00          6         1   \n\n       pick_month  pick_year  pick_weekday  drop_hour  drop_day  drop_month  \\\n0               3       2016             1          0         1           3   \n1               3       2016             1          0         1           3   \n2               3       2016             1          0         1           3   \n3               3       2016             1          0         1           3   \n4               3       2016             1          0         1           3   \n...           ...        ...           ...        ...       ...         ...   \n99995           3       2016             1          6         1           3   \n99996           3       2016             1          6         1           3   \n99997           3       2016             1          6         1           3   \n99998           3       2016             1          6         1           3   \n99999           3       2016             1          6         1           3   \n\n       drop_year  drop_weekday  datetime_id  \n0           2016             1            0  \n1           2016             1            1  \n2           2016             1            2  \n3           2016             1            3  \n4           2016             1            4  \n...          ...           ...          ...  \n99995       2016             1        99995  \n99996       2016             1        99996  \n99997       2016             1        99997  \n99998       2016             1        99998  \n99999       2016             1        99999  \n\n[100000 rows x 13 columns]",
            "text/html": "<div>\n<style scoped>\n    .dataframe tbody tr th:only-of-type {\n        vertical-align: middle;\n    }\n\n    .dataframe tbody tr th {\n        vertical-align: top;\n    }\n\n    .dataframe thead th {\n        text-align: right;\n    }\n</style>\n<table border=\"1\" class=\"dataframe\">\n  <thead>\n    <tr style=\"text-align: right;\">\n      <th></th>\n      <th>tpep_pickup_datetime</th>\n      <th>tpep_dropoff_datetime</th>\n      <th>pick_hour</th>\n      <th>pick_day</th>\n      <th>pick_month</th>\n      <th>pick_year</th>\n      <th>pick_weekday</th>\n      <th>drop_hour</th>\n      <th>drop_day</th>\n      <th>drop_month</th>\n      <th>drop_year</th>\n      <th>drop_weekday</th>\n      <th>datetime_id</th>\n    </tr>\n  </thead>\n  <tbody>\n    <tr>\n      <th>0</th>\n      <td>2016-03-01 00:00:00</td>\n      <td>2016-03-01 00:07:55</td>\n      <td>0</td>\n      <td>1</td>\n      <td>3</td>\n      <td>2016</td>\n      <td>1</td>\n      <td>0</td>\n      <td>1</td>\n      <td>3</td>\n      <td>2016</td>\n      <td>1</td>\n      <td>0</td>\n    </tr>\n    <tr>\n      <th>1</th>\n      <td>2016-03-01 00:00:00</td>\n      <td>2016-03-01 00:11:06</td>\n      <td>0</td>\n      <td>1</td>\n      <td>3</td>\n      <td>2016</td>\n      <td>1</td>\n      <td>0</td>\n      <td>1</td>\n      <td>3</td>\n      <td>2016</td>\n      <td>1</td>\n      <td>1</td>\n    </tr>\n    <tr>\n      <th>2</th>\n      <td>2016-03-01 00:00:00</td>\n      <td>2016-03-01 00:31:06</td>\n      <td>0</td>\n      <td>1</td>\n      <td>3</td>\n      <td>2016</td>\n      <td>1</td>\n      <td>0</td>\n      <td>1</td>\n      <td>3</td>\n      <td>2016</td>\n      <td>1</td>\n      <td>2</td>\n    </tr>\n    <tr>\n      <th>3</th>\n      <td>2016-03-01 00:00:00</td>\n      <td>2016-03-01 00:00:00</td>\n      <td>0</td>\n      <td>1</td>\n      <td>3</td>\n      <td>2016</td>\n      <td>1</td>\n      <td>0</td>\n      <td>1</td>\n      <td>3</td>\n      <td>2016</td>\n      <td>1</td>\n      <td>3</td>\n    </tr>\n    <tr>\n      <th>4</th>\n      <td>2016-03-01 00:00:00</td>\n      <td>2016-03-01 00:00:00</td>\n      <td>0</td>\n      <td>1</td>\n      <td>3</td>\n      <td>2016</td>\n      <td>1</td>\n      <td>0</td>\n      <td>1</td>\n      <td>3</td>\n      <td>2016</td>\n      <td>1</td>\n      <td>4</td>\n    </tr>\n    <tr>\n      <th>...</th>\n      <td>...</td>\n      <td>...</td>\n      <td>...</td>\n      <td>...</td>\n      <td>...</td>\n      <td>...</td>\n      <td>...</td>\n      <td>...</td>\n      <td>...</td>\n      <td>...</td>\n      <td>...</td>\n      <td>...</td>\n      <td>...</td>\n    </tr>\n    <tr>\n      <th>99995</th>\n      <td>2016-03-01 06:17:10</td>\n      <td>2016-03-01 06:22:15</td>\n      <td>6</td>\n      <td>1</td>\n      <td>3</td>\n      <td>2016</td>\n      <td>1</td>\n      <td>6</td>\n      <td>1</td>\n      <td>3</td>\n      <td>2016</td>\n      <td>1</td>\n      <td>99995</td>\n    </tr>\n    <tr>\n      <th>99996</th>\n      <td>2016-03-01 06:17:10</td>\n      <td>2016-03-01 06:32:41</td>\n      <td>6</td>\n      <td>1</td>\n      <td>3</td>\n      <td>2016</td>\n      <td>1</td>\n      <td>6</td>\n      <td>1</td>\n      <td>3</td>\n      <td>2016</td>\n      <td>1</td>\n      <td>99996</td>\n    </tr>\n    <tr>\n      <th>99997</th>\n      <td>2016-03-01 06:17:10</td>\n      <td>2016-03-01 06:37:23</td>\n      <td>6</td>\n      <td>1</td>\n      <td>3</td>\n      <td>2016</td>\n      <td>1</td>\n      <td>6</td>\n      <td>1</td>\n      <td>3</td>\n      <td>2016</td>\n      <td>1</td>\n      <td>99997</td>\n    </tr>\n    <tr>\n      <th>99998</th>\n      <td>2016-03-01 06:17:10</td>\n      <td>2016-03-01 06:22:09</td>\n      <td>6</td>\n      <td>1</td>\n      <td>3</td>\n      <td>2016</td>\n      <td>1</td>\n      <td>6</td>\n      <td>1</td>\n      <td>3</td>\n      <td>2016</td>\n      <td>1</td>\n      <td>99998</td>\n    </tr>\n    <tr>\n      <th>99999</th>\n      <td>2016-03-01 06:17:11</td>\n      <td>2016-03-01 06:22:00</td>\n      <td>6</td>\n      <td>1</td>\n      <td>3</td>\n      <td>2016</td>\n      <td>1</td>\n      <td>6</td>\n      <td>1</td>\n      <td>3</td>\n      <td>2016</td>\n      <td>1</td>\n      <td>99999</td>\n    </tr>\n  </tbody>\n</table>\n<p>100000 rows × 13 columns</p>\n</div>"
          },
          "metadata": {}
        }
      ]
    },
    {
      "cell_type": "code",
      "source": "datetime_dim = datetime_dim[['datetime_id', 'tpep_pickup_datetime', 'pick_hour', 'pick_day', 'pick_month', 'pick_year', 'pick_weekday',\n                             'tpep_dropoff_datetime', 'drop_hour', 'drop_day', 'drop_month', 'drop_year', 'drop_weekday']]",
      "metadata": {
        "trusted": true
      },
      "execution_count": 22,
      "outputs": []
    },
    {
      "cell_type": "code",
      "source": "datetime_dim",
      "metadata": {
        "trusted": true
      },
      "execution_count": 23,
      "outputs": [
        {
          "execution_count": 23,
          "output_type": "execute_result",
          "data": {
            "text/plain": "       datetime_id tpep_pickup_datetime  pick_hour  pick_day  pick_month  \\\n0                0  2016-03-01 00:00:00          0         1           3   \n1                1  2016-03-01 00:00:00          0         1           3   \n2                2  2016-03-01 00:00:00          0         1           3   \n3                3  2016-03-01 00:00:00          0         1           3   \n4                4  2016-03-01 00:00:00          0         1           3   \n...            ...                  ...        ...       ...         ...   \n99995        99995  2016-03-01 06:17:10          6         1           3   \n99996        99996  2016-03-01 06:17:10          6         1           3   \n99997        99997  2016-03-01 06:17:10          6         1           3   \n99998        99998  2016-03-01 06:17:10          6         1           3   \n99999        99999  2016-03-01 06:17:11          6         1           3   \n\n       pick_year  pick_weekday tpep_dropoff_datetime  drop_hour  drop_day  \\\n0           2016             1   2016-03-01 00:07:55          0         1   \n1           2016             1   2016-03-01 00:11:06          0         1   \n2           2016             1   2016-03-01 00:31:06          0         1   \n3           2016             1   2016-03-01 00:00:00          0         1   \n4           2016             1   2016-03-01 00:00:00          0         1   \n...          ...           ...                   ...        ...       ...   \n99995       2016             1   2016-03-01 06:22:15          6         1   \n99996       2016             1   2016-03-01 06:32:41          6         1   \n99997       2016             1   2016-03-01 06:37:23          6         1   \n99998       2016             1   2016-03-01 06:22:09          6         1   \n99999       2016             1   2016-03-01 06:22:00          6         1   \n\n       drop_month  drop_year  drop_weekday  \n0               3       2016             1  \n1               3       2016             1  \n2               3       2016             1  \n3               3       2016             1  \n4               3       2016             1  \n...           ...        ...           ...  \n99995           3       2016             1  \n99996           3       2016             1  \n99997           3       2016             1  \n99998           3       2016             1  \n99999           3       2016             1  \n\n[100000 rows x 13 columns]",
            "text/html": "<div>\n<style scoped>\n    .dataframe tbody tr th:only-of-type {\n        vertical-align: middle;\n    }\n\n    .dataframe tbody tr th {\n        vertical-align: top;\n    }\n\n    .dataframe thead th {\n        text-align: right;\n    }\n</style>\n<table border=\"1\" class=\"dataframe\">\n  <thead>\n    <tr style=\"text-align: right;\">\n      <th></th>\n      <th>datetime_id</th>\n      <th>tpep_pickup_datetime</th>\n      <th>pick_hour</th>\n      <th>pick_day</th>\n      <th>pick_month</th>\n      <th>pick_year</th>\n      <th>pick_weekday</th>\n      <th>tpep_dropoff_datetime</th>\n      <th>drop_hour</th>\n      <th>drop_day</th>\n      <th>drop_month</th>\n      <th>drop_year</th>\n      <th>drop_weekday</th>\n    </tr>\n  </thead>\n  <tbody>\n    <tr>\n      <th>0</th>\n      <td>0</td>\n      <td>2016-03-01 00:00:00</td>\n      <td>0</td>\n      <td>1</td>\n      <td>3</td>\n      <td>2016</td>\n      <td>1</td>\n      <td>2016-03-01 00:07:55</td>\n      <td>0</td>\n      <td>1</td>\n      <td>3</td>\n      <td>2016</td>\n      <td>1</td>\n    </tr>\n    <tr>\n      <th>1</th>\n      <td>1</td>\n      <td>2016-03-01 00:00:00</td>\n      <td>0</td>\n      <td>1</td>\n      <td>3</td>\n      <td>2016</td>\n      <td>1</td>\n      <td>2016-03-01 00:11:06</td>\n      <td>0</td>\n      <td>1</td>\n      <td>3</td>\n      <td>2016</td>\n      <td>1</td>\n    </tr>\n    <tr>\n      <th>2</th>\n      <td>2</td>\n      <td>2016-03-01 00:00:00</td>\n      <td>0</td>\n      <td>1</td>\n      <td>3</td>\n      <td>2016</td>\n      <td>1</td>\n      <td>2016-03-01 00:31:06</td>\n      <td>0</td>\n      <td>1</td>\n      <td>3</td>\n      <td>2016</td>\n      <td>1</td>\n    </tr>\n    <tr>\n      <th>3</th>\n      <td>3</td>\n      <td>2016-03-01 00:00:00</td>\n      <td>0</td>\n      <td>1</td>\n      <td>3</td>\n      <td>2016</td>\n      <td>1</td>\n      <td>2016-03-01 00:00:00</td>\n      <td>0</td>\n      <td>1</td>\n      <td>3</td>\n      <td>2016</td>\n      <td>1</td>\n    </tr>\n    <tr>\n      <th>4</th>\n      <td>4</td>\n      <td>2016-03-01 00:00:00</td>\n      <td>0</td>\n      <td>1</td>\n      <td>3</td>\n      <td>2016</td>\n      <td>1</td>\n      <td>2016-03-01 00:00:00</td>\n      <td>0</td>\n      <td>1</td>\n      <td>3</td>\n      <td>2016</td>\n      <td>1</td>\n    </tr>\n    <tr>\n      <th>...</th>\n      <td>...</td>\n      <td>...</td>\n      <td>...</td>\n      <td>...</td>\n      <td>...</td>\n      <td>...</td>\n      <td>...</td>\n      <td>...</td>\n      <td>...</td>\n      <td>...</td>\n      <td>...</td>\n      <td>...</td>\n      <td>...</td>\n    </tr>\n    <tr>\n      <th>99995</th>\n      <td>99995</td>\n      <td>2016-03-01 06:17:10</td>\n      <td>6</td>\n      <td>1</td>\n      <td>3</td>\n      <td>2016</td>\n      <td>1</td>\n      <td>2016-03-01 06:22:15</td>\n      <td>6</td>\n      <td>1</td>\n      <td>3</td>\n      <td>2016</td>\n      <td>1</td>\n    </tr>\n    <tr>\n      <th>99996</th>\n      <td>99996</td>\n      <td>2016-03-01 06:17:10</td>\n      <td>6</td>\n      <td>1</td>\n      <td>3</td>\n      <td>2016</td>\n      <td>1</td>\n      <td>2016-03-01 06:32:41</td>\n      <td>6</td>\n      <td>1</td>\n      <td>3</td>\n      <td>2016</td>\n      <td>1</td>\n    </tr>\n    <tr>\n      <th>99997</th>\n      <td>99997</td>\n      <td>2016-03-01 06:17:10</td>\n      <td>6</td>\n      <td>1</td>\n      <td>3</td>\n      <td>2016</td>\n      <td>1</td>\n      <td>2016-03-01 06:37:23</td>\n      <td>6</td>\n      <td>1</td>\n      <td>3</td>\n      <td>2016</td>\n      <td>1</td>\n    </tr>\n    <tr>\n      <th>99998</th>\n      <td>99998</td>\n      <td>2016-03-01 06:17:10</td>\n      <td>6</td>\n      <td>1</td>\n      <td>3</td>\n      <td>2016</td>\n      <td>1</td>\n      <td>2016-03-01 06:22:09</td>\n      <td>6</td>\n      <td>1</td>\n      <td>3</td>\n      <td>2016</td>\n      <td>1</td>\n    </tr>\n    <tr>\n      <th>99999</th>\n      <td>99999</td>\n      <td>2016-03-01 06:17:11</td>\n      <td>6</td>\n      <td>1</td>\n      <td>3</td>\n      <td>2016</td>\n      <td>1</td>\n      <td>2016-03-01 06:22:00</td>\n      <td>6</td>\n      <td>1</td>\n      <td>3</td>\n      <td>2016</td>\n      <td>1</td>\n    </tr>\n  </tbody>\n</table>\n<p>100000 rows × 13 columns</p>\n</div>"
          },
          "metadata": {}
        }
      ]
    },
    {
      "cell_type": "code",
      "source": "passenger_count_dim = data[['passenger_count']].reset_index(drop=True)\npassenger_count_dim['passenger_count_id'] = passenger_count_dim.index\npassenger_count_dim = passenger_count_dim[['passenger_count_id','passenger_count']]\n\ntrip_distance_dim = data[['trip_distance']].reset_index(drop=True)\ntrip_distance_dim['trip_distance_id'] = trip_distance_dim.index\ntrip_distance_dim = trip_distance_dim[['trip_distance_id','trip_distance']]",
      "metadata": {
        "trusted": true
      },
      "execution_count": 25,
      "outputs": []
    },
    {
      "cell_type": "code",
      "source": "rate_code_type = {\n    1:\"Standard rate\",\n    2:\"JFK\",\n    3:\"Newark\",\n    4:\"Nassau or Westchester\",\n    5:\"Negotiated fare\",\n    6:\"Group ride\"\n}\n\nrate_code_dim = data[['RatecodeID']].reset_index(drop=True)\nrate_code_dim['rate_code_id'] = rate_code_dim.index\nrate_code_dim['rate_code_name'] = rate_code_dim['RatecodeID'].map(rate_code_type)\nrate_code_dim = rate_code_dim[['rate_code_id','RatecodeID','rate_code_name']]",
      "metadata": {
        "trusted": true
      },
      "execution_count": 26,
      "outputs": []
    },
    {
      "cell_type": "code",
      "source": "rate_code_dim.head()",
      "metadata": {
        "trusted": true
      },
      "execution_count": 28,
      "outputs": [
        {
          "execution_count": 28,
          "output_type": "execute_result",
          "data": {
            "text/plain": "   rate_code_id  RatecodeID rate_code_name\n0             0           1  Standard rate\n1             1           1  Standard rate\n2             2           1  Standard rate\n3             3           1  Standard rate\n4             4           3         Newark",
            "text/html": "<div>\n<style scoped>\n    .dataframe tbody tr th:only-of-type {\n        vertical-align: middle;\n    }\n\n    .dataframe tbody tr th {\n        vertical-align: top;\n    }\n\n    .dataframe thead th {\n        text-align: right;\n    }\n</style>\n<table border=\"1\" class=\"dataframe\">\n  <thead>\n    <tr style=\"text-align: right;\">\n      <th></th>\n      <th>rate_code_id</th>\n      <th>RatecodeID</th>\n      <th>rate_code_name</th>\n    </tr>\n  </thead>\n  <tbody>\n    <tr>\n      <th>0</th>\n      <td>0</td>\n      <td>1</td>\n      <td>Standard rate</td>\n    </tr>\n    <tr>\n      <th>1</th>\n      <td>1</td>\n      <td>1</td>\n      <td>Standard rate</td>\n    </tr>\n    <tr>\n      <th>2</th>\n      <td>2</td>\n      <td>1</td>\n      <td>Standard rate</td>\n    </tr>\n    <tr>\n      <th>3</th>\n      <td>3</td>\n      <td>1</td>\n      <td>Standard rate</td>\n    </tr>\n    <tr>\n      <th>4</th>\n      <td>4</td>\n      <td>3</td>\n      <td>Newark</td>\n    </tr>\n  </tbody>\n</table>\n</div>"
          },
          "metadata": {}
        }
      ]
    },
    {
      "cell_type": "code",
      "source": "pickup_location_dim = data[['pickup_longitude', 'pickup_latitude']].reset_index(drop=True)\npickup_location_dim['pickup_location_id'] = pickup_location_dim.index\npickup_location_dim = pickup_location_dim[['pickup_location_id','pickup_latitude','pickup_longitude']] \n\n\ndropoff_location_dim = data[['dropoff_longitude', 'dropoff_latitude']].reset_index(drop=True)\ndropoff_location_dim['dropoff_location_id'] = dropoff_location_dim.index\ndropoff_location_dim = dropoff_location_dim[['dropoff_location_id','dropoff_latitude','dropoff_longitude']]",
      "metadata": {
        "trusted": true
      },
      "execution_count": 30,
      "outputs": []
    },
    {
      "cell_type": "code",
      "source": "payment_type_name = {\n    1:\"Credit card\",\n    2:\"Cash\",\n    3:\"No charge\",\n    4:\"Dispute\",\n    5:\"Unknown\",\n    6:\"Voided trip\"\n}\npayment_type_dim = data[['payment_type']].reset_index(drop=True)\npayment_type_dim['payment_type_id'] = payment_type_dim.index\npayment_type_dim['payment_type_name'] = payment_type_dim['payment_type'].map(payment_type_name)\npayment_type_dim = payment_type_dim[['payment_type_id','payment_type','payment_type_name']]",
      "metadata": {
        "trusted": true
      },
      "execution_count": 31,
      "outputs": []
    },
    {
      "cell_type": "code",
      "source": "fact_table = data.merge(passenger_count_dim, left_on='trip_id', right_on='passenger_count_id') \\\n             .merge(trip_distance_dim, left_on='trip_id', right_on='trip_distance_id') \\\n             .merge(rate_code_dim, left_on='trip_id', right_on='rate_code_id') \\\n             .merge(pickup_location_dim, left_on='trip_id', right_on='pickup_location_id') \\\n             .merge(dropoff_location_dim, left_on='trip_id', right_on='dropoff_location_id')\\\n             .merge(datetime_dim, left_on='trip_id', right_on='datetime_id') \\\n             .merge(payment_type_dim, left_on='trip_id', right_on='payment_type_id') \\\n             [['trip_id','VendorID', 'datetime_id', 'passenger_count_id',\n               'trip_distance_id', 'rate_code_id', 'store_and_fwd_flag', 'pickup_location_id', 'dropoff_location_id',\n               'payment_type_id', 'fare_amount', 'extra', 'mta_tax', 'tip_amount', 'tolls_amount',\n               'improvement_surcharge', 'total_amount']]",
      "metadata": {
        "trusted": true
      },
      "execution_count": 32,
      "outputs": []
    },
    {
      "cell_type": "code",
      "source": "payment_type_dim.columns",
      "metadata": {
        "trusted": true
      },
      "execution_count": 33,
      "outputs": [
        {
          "execution_count": 33,
          "output_type": "execute_result",
          "data": {
            "text/plain": "Index(['payment_type_id', 'payment_type', 'payment_type_name'], dtype='object')"
          },
          "metadata": {}
        }
      ]
    },
    {
      "cell_type": "code",
      "source": "fact_table.columns",
      "metadata": {
        "trusted": true
      },
      "execution_count": 34,
      "outputs": [
        {
          "execution_count": 34,
          "output_type": "execute_result",
          "data": {
            "text/plain": "Index(['trip_id', 'VendorID', 'datetime_id', 'passenger_count_id',\n       'trip_distance_id', 'rate_code_id', 'store_and_fwd_flag',\n       'pickup_location_id', 'dropoff_location_id', 'payment_type_id',\n       'fare_amount', 'extra', 'mta_tax', 'tip_amount', 'tolls_amount',\n       'improvement_surcharge', 'total_amount'],\n      dtype='object')"
          },
          "metadata": {}
        }
      ]
    },
    {
      "cell_type": "code",
      "source": "fact_table",
      "metadata": {
        "trusted": true
      },
      "execution_count": 35,
      "outputs": [
        {
          "execution_count": 35,
          "output_type": "execute_result",
          "data": {
            "text/plain": "       trip_id  VendorID  datetime_id  passenger_count_id  trip_distance_id  \\\n0            0         1            0                   0                 0   \n1            1         1            1                   1                 1   \n2            2         2            2                   2                 2   \n3            3         2            3                   3                 3   \n4            4         2            4                   4                 4   \n...        ...       ...          ...                 ...               ...   \n99995    99995         1        99995               99995             99995   \n99996    99996         1        99996               99996             99996   \n99997    99997         1        99997               99997             99997   \n99998    99998         2        99998               99998             99998   \n99999    99999         1        99999               99999             99999   \n\n       rate_code_id store_and_fwd_flag  pickup_location_id  \\\n0                 0                  N                   0   \n1                 1                  N                   1   \n2                 2                  N                   2   \n3                 3                  N                   3   \n4                 4                  N                   4   \n...             ...                ...                 ...   \n99995         99995                  N               99995   \n99996         99996                  N               99996   \n99997         99997                  N               99997   \n99998         99998                  N               99998   \n99999         99999                  N               99999   \n\n       dropoff_location_id  payment_type_id  fare_amount  extra  mta_tax  \\\n0                        0                0          9.0    0.5      0.5   \n1                        1                1         11.0    0.5      0.5   \n2                        2                2         54.5    0.5      0.5   \n3                        3                3         31.5    0.0      0.5   \n4                        4                4         98.0    0.0      0.0   \n...                    ...              ...          ...    ...      ...   \n99995                99995            99995          5.0    0.0      0.5   \n99996                99996            99996         14.0    0.0      0.5   \n99997                99997            99997         29.0    0.0      0.5   \n99998                99998            99998          5.5    0.5      0.5   \n99999                99999            99999          6.0    0.0      0.5   \n\n       tip_amount  tolls_amount  improvement_surcharge  total_amount  \n0            2.05          0.00                    0.3         12.35  \n1            3.05          0.00                    0.3         15.35  \n2            8.00          0.00                    0.3         63.80  \n3            3.78          5.54                    0.3         41.62  \n4            0.00         15.50                    0.3        113.80  \n...           ...           ...                    ...           ...  \n99995        0.00          0.00                    0.3          5.80  \n99996        2.00          0.00                    0.3         16.80  \n99997        8.80          5.54                    0.3         44.14  \n99998        1.36          0.00                    0.3          8.16  \n99999        0.00          0.00                    0.3          6.80  \n\n[100000 rows x 17 columns]",
            "text/html": "<div>\n<style scoped>\n    .dataframe tbody tr th:only-of-type {\n        vertical-align: middle;\n    }\n\n    .dataframe tbody tr th {\n        vertical-align: top;\n    }\n\n    .dataframe thead th {\n        text-align: right;\n    }\n</style>\n<table border=\"1\" class=\"dataframe\">\n  <thead>\n    <tr style=\"text-align: right;\">\n      <th></th>\n      <th>trip_id</th>\n      <th>VendorID</th>\n      <th>datetime_id</th>\n      <th>passenger_count_id</th>\n      <th>trip_distance_id</th>\n      <th>rate_code_id</th>\n      <th>store_and_fwd_flag</th>\n      <th>pickup_location_id</th>\n      <th>dropoff_location_id</th>\n      <th>payment_type_id</th>\n      <th>fare_amount</th>\n      <th>extra</th>\n      <th>mta_tax</th>\n      <th>tip_amount</th>\n      <th>tolls_amount</th>\n      <th>improvement_surcharge</th>\n      <th>total_amount</th>\n    </tr>\n  </thead>\n  <tbody>\n    <tr>\n      <th>0</th>\n      <td>0</td>\n      <td>1</td>\n      <td>0</td>\n      <td>0</td>\n      <td>0</td>\n      <td>0</td>\n      <td>N</td>\n      <td>0</td>\n      <td>0</td>\n      <td>0</td>\n      <td>9.0</td>\n      <td>0.5</td>\n      <td>0.5</td>\n      <td>2.05</td>\n      <td>0.00</td>\n      <td>0.3</td>\n      <td>12.35</td>\n    </tr>\n    <tr>\n      <th>1</th>\n      <td>1</td>\n      <td>1</td>\n      <td>1</td>\n      <td>1</td>\n      <td>1</td>\n      <td>1</td>\n      <td>N</td>\n      <td>1</td>\n      <td>1</td>\n      <td>1</td>\n      <td>11.0</td>\n      <td>0.5</td>\n      <td>0.5</td>\n      <td>3.05</td>\n      <td>0.00</td>\n      <td>0.3</td>\n      <td>15.35</td>\n    </tr>\n    <tr>\n      <th>2</th>\n      <td>2</td>\n      <td>2</td>\n      <td>2</td>\n      <td>2</td>\n      <td>2</td>\n      <td>2</td>\n      <td>N</td>\n      <td>2</td>\n      <td>2</td>\n      <td>2</td>\n      <td>54.5</td>\n      <td>0.5</td>\n      <td>0.5</td>\n      <td>8.00</td>\n      <td>0.00</td>\n      <td>0.3</td>\n      <td>63.80</td>\n    </tr>\n    <tr>\n      <th>3</th>\n      <td>3</td>\n      <td>2</td>\n      <td>3</td>\n      <td>3</td>\n      <td>3</td>\n      <td>3</td>\n      <td>N</td>\n      <td>3</td>\n      <td>3</td>\n      <td>3</td>\n      <td>31.5</td>\n      <td>0.0</td>\n      <td>0.5</td>\n      <td>3.78</td>\n      <td>5.54</td>\n      <td>0.3</td>\n      <td>41.62</td>\n    </tr>\n    <tr>\n      <th>4</th>\n      <td>4</td>\n      <td>2</td>\n      <td>4</td>\n      <td>4</td>\n      <td>4</td>\n      <td>4</td>\n      <td>N</td>\n      <td>4</td>\n      <td>4</td>\n      <td>4</td>\n      <td>98.0</td>\n      <td>0.0</td>\n      <td>0.0</td>\n      <td>0.00</td>\n      <td>15.50</td>\n      <td>0.3</td>\n      <td>113.80</td>\n    </tr>\n    <tr>\n      <th>...</th>\n      <td>...</td>\n      <td>...</td>\n      <td>...</td>\n      <td>...</td>\n      <td>...</td>\n      <td>...</td>\n      <td>...</td>\n      <td>...</td>\n      <td>...</td>\n      <td>...</td>\n      <td>...</td>\n      <td>...</td>\n      <td>...</td>\n      <td>...</td>\n      <td>...</td>\n      <td>...</td>\n      <td>...</td>\n    </tr>\n    <tr>\n      <th>99995</th>\n      <td>99995</td>\n      <td>1</td>\n      <td>99995</td>\n      <td>99995</td>\n      <td>99995</td>\n      <td>99995</td>\n      <td>N</td>\n      <td>99995</td>\n      <td>99995</td>\n      <td>99995</td>\n      <td>5.0</td>\n      <td>0.0</td>\n      <td>0.5</td>\n      <td>0.00</td>\n      <td>0.00</td>\n      <td>0.3</td>\n      <td>5.80</td>\n    </tr>\n    <tr>\n      <th>99996</th>\n      <td>99996</td>\n      <td>1</td>\n      <td>99996</td>\n      <td>99996</td>\n      <td>99996</td>\n      <td>99996</td>\n      <td>N</td>\n      <td>99996</td>\n      <td>99996</td>\n      <td>99996</td>\n      <td>14.0</td>\n      <td>0.0</td>\n      <td>0.5</td>\n      <td>2.00</td>\n      <td>0.00</td>\n      <td>0.3</td>\n      <td>16.80</td>\n    </tr>\n    <tr>\n      <th>99997</th>\n      <td>99997</td>\n      <td>1</td>\n      <td>99997</td>\n      <td>99997</td>\n      <td>99997</td>\n      <td>99997</td>\n      <td>N</td>\n      <td>99997</td>\n      <td>99997</td>\n      <td>99997</td>\n      <td>29.0</td>\n      <td>0.0</td>\n      <td>0.5</td>\n      <td>8.80</td>\n      <td>5.54</td>\n      <td>0.3</td>\n      <td>44.14</td>\n    </tr>\n    <tr>\n      <th>99998</th>\n      <td>99998</td>\n      <td>2</td>\n      <td>99998</td>\n      <td>99998</td>\n      <td>99998</td>\n      <td>99998</td>\n      <td>N</td>\n      <td>99998</td>\n      <td>99998</td>\n      <td>99998</td>\n      <td>5.5</td>\n      <td>0.5</td>\n      <td>0.5</td>\n      <td>1.36</td>\n      <td>0.00</td>\n      <td>0.3</td>\n      <td>8.16</td>\n    </tr>\n    <tr>\n      <th>99999</th>\n      <td>99999</td>\n      <td>1</td>\n      <td>99999</td>\n      <td>99999</td>\n      <td>99999</td>\n      <td>99999</td>\n      <td>N</td>\n      <td>99999</td>\n      <td>99999</td>\n      <td>99999</td>\n      <td>6.0</td>\n      <td>0.0</td>\n      <td>0.5</td>\n      <td>0.00</td>\n      <td>0.00</td>\n      <td>0.3</td>\n      <td>6.80</td>\n    </tr>\n  </tbody>\n</table>\n<p>100000 rows × 17 columns</p>\n</div>"
          },
          "metadata": {}
        }
      ]
    },
    {
      "cell_type": "code",
      "source": "",
      "metadata": {},
      "execution_count": null,
      "outputs": []
    }
  ]
}